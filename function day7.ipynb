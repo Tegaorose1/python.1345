{
 "cells": [
  {
   "cell_type": "code",
   "execution_count": 2,
   "metadata": {},
   "outputs": [
    {
     "name": "stdout",
     "output_type": "stream",
     "text": [
      "Hey welcome to python class\n"
     ]
    }
   ],
   "source": [
    "greet()"
   ]
  },
  {
   "cell_type": "code",
   "execution_count": 3,
   "metadata": {},
   "outputs": [],
   "source": [
    "def greet2(name):\n",
    "    print(f'Hey {name} welcome to python class')"
   ]
  },
  {
   "cell_type": "code",
   "execution_count": 4,
   "metadata": {},
   "outputs": [
    {
     "name": "stdout",
     "output_type": "stream",
     "text": [
      "Hey simeon welcome to python class\n"
     ]
    }
   ],
   "source": [
    "greet2('simeon')"
   ]
  },
  {
   "cell_type": "code",
   "execution_count": 5,
   "metadata": {},
   "outputs": [
    {
     "name": "stdout",
     "output_type": "stream",
     "text": [
      "Hey ade welcome to python class\n"
     ]
    }
   ],
   "source": [
    "greet2('ade')"
   ]
  },
  {
   "cell_type": "code",
   "execution_count": 6,
   "metadata": {},
   "outputs": [
    {
     "name": "stdout",
     "output_type": "stream",
     "text": [
      "My Name is Simeon\n",
      "I am a Male and my age is 25\n"
     ]
    }
   ],
   "source": [
    "def person(Name, Gender, Age):\n",
    "    print(f'My Name is {Name}')\n",
    "    print(f'I am a {Gender} and my age is {Age}')\n",
    "person('Simeon','Male',25)    "
   ]
  },
  {
   "cell_type": "code",
   "execution_count": 8,
   "metadata": {},
   "outputs": [
    {
     "name": "stdout",
     "output_type": "stream",
     "text": [
      "My name is Simeon\n",
      "I am a Male and my age is 18\n",
      "Congratulations you are eligible to vote\n"
     ]
    }
   ],
   "source": [
    "def person(Name,Gender,Age=18):\n",
    "    print(f'My name is {Name}')\n",
    "    print(f'I am a {Gender} and my age is {Age}')\n",
    "    if Age >= 18:\n",
    "        print('Congratulations you are eligible to vote')\n",
    "    else:\n",
    "        print('Hey sorry you are not eligible to vote wwait till you are 18 years')\n",
    "person('Simeon','Male')        "
   ]
  },
  {
   "cell_type": "code",
   "execution_count": 15,
   "metadata": {},
   "outputs": [
    {
     "name": "stdin",
     "output_type": "stream",
     "text": [
      "enter the password Tolulope1\n"
     ]
    },
    {
     "name": "stdout",
     "output_type": "stream",
     "text": [
      "Your password is fine\n"
     ]
    }
   ],
   "source": [
    "import re\n",
    "def validate():\n",
    "    while True:\n",
    "        password = input('enter the password')\n",
    "        if len(password) < 8:\n",
    "            print('your password must be 8 and above')\n",
    "        elif re.search('[0-9]',password) is None:\n",
    "            print('Make sure your password has a digit')\n",
    "        elif re.search('[A-Z]',password) is None:\n",
    "            print('Make sure your password has a capital letter')\n",
    "        else:\n",
    "            print('Your password is fine')\n",
    "            break\n",
    "validate()            "
   ]
  },
  {
   "cell_type": "code",
   "execution_count": 19,
   "metadata": {},
   "outputs": [
    {
     "name": "stdout",
     "output_type": "stream",
     "text": [
      "My name is Simeon\n",
      "I am a Male and my age is 26\n",
      "Congratulations you are eligible to vote\n"
     ]
    }
   ],
   "source": [
    "def person(Name,Gender,Age=18):\n",
    "    print(f'My name is {Name}')\n",
    "    print(f'I am a {Gender} and my age is {Age}')\n",
    "    if Age >= 18:\n",
    "        print('Congratulations you are eligible to vote')\n",
    "    else:\n",
    "        print('Hey sorry you are not eligible to vote wwait till you are 18 years')\n",
    "person(Name ='Simeon',Gender ='Male',Age =26)        "
   ]
  },
  {
   "cell_type": "code",
   "execution_count": null,
   "metadata": {},
   "outputs": [],
   "source": []
  }
 ],
 "metadata": {
  "kernelspec": {
   "display_name": "Python 3",
   "language": "python",
   "name": "python3"
  },
  "language_info": {
   "codemirror_mode": {
    "name": "ipython",
    "version": 3
   },
   "file_extension": ".py",
   "mimetype": "text/x-python",
   "name": "python",
   "nbconvert_exporter": "python",
   "pygments_lexer": "ipython3",
   "version": "3.8.3"
  }
 },
 "nbformat": 4,
 "nbformat_minor": 4
}
