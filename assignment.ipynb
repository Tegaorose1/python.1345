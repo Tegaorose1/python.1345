{
 "cells": [
  {
   "cell_type": "code",
   "execution_count": 4,
   "metadata": {},
   "outputs": [
    {
     "name": "stdin",
     "output_type": "stream",
     "text": [
      "please enter your birthday date: 23/04/2005\n"
     ]
    },
    {
     "name": "stdout",
     "output_type": "stream",
     "text": [
      "I wish you a belated birthday my friend\n"
     ]
    }
   ],
   "source": [
    "birthday = {\n",
    "    '18/07/2001':'joshua alex',\n",
    "    '12/10/1999':'abiye samson',\n",
    "    '23/04/2005':'gbril mohammad',\n",
    "    '21/11/2000':'okon brigdet',\n",
    "    '16/06/2002':'isaac micheal'\n",
    "}\n",
    "Bdate = input('please enter your birthday date:')\n",
    "for i in birthday.keys():\n",
    "    if i == Bdate:\n",
    "        print('I wish you a belated birthday my friend')\n",
    "        break\n",
    "else:\n",
    "        print('You are not on my list')"
   ]
  },
  {
   "cell_type": "code",
   "execution_count": null,
   "metadata": {},
   "outputs": [],
   "source": []
  }
 ],
 "metadata": {
  "kernelspec": {
   "display_name": "Python 3",
   "language": "python",
   "name": "python3"
  },
  "language_info": {
   "codemirror_mode": {
    "name": "ipython",
    "version": 3
   },
   "file_extension": ".py",
   "mimetype": "text/x-python",
   "name": "python",
   "nbconvert_exporter": "python",
   "pygments_lexer": "ipython3",
   "version": "3.8.5"
  }
 },
 "nbformat": 4,
 "nbformat_minor": 4
}
