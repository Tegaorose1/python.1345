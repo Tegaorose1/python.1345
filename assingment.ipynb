{
 "cells": [
  {
   "cell_type": "code",
   "execution_count": 8,
   "metadata": {},
   "outputs": [
    {
     "name": "stdout",
     "output_type": "stream",
     "text": [
      "Enter your load1:500\n",
      "Enter your load2:600\n",
      "Enter your load3:7890\n",
      "load3 is the greatest\n"
     ]
    }
   ],
   "source": [
    "load1 = int(input('Enter your load1:'))\n",
    "\n",
    "load2 = int(input('Enter your load2:'))\n",
    "load3 = int(input('Enter your load3:'))\n",
    "\n",
    "if load1> load2 and load1 > load3:\n",
    "    print('load1 is the greatest')\n",
    "elif load2> load1 and load2 > load3:\n",
    "    print('load2 is the greatest')\n",
    "else:\n",
    "    print('load3 is the greatest')\n",
    "    "
   ]
  },
  {
   "cell_type": "code",
   "execution_count": null,
   "metadata": {},
   "outputs": [],
   "source": []
  }
 ],
 "metadata": {
  "kernelspec": {
   "display_name": "Python 3",
   "language": "python",
   "name": "python3"
  },
  "language_info": {
   "codemirror_mode": {
    "name": "ipython",
    "version": 3
   },
   "file_extension": ".py",
   "mimetype": "text/x-python",
   "name": "python",
   "nbconvert_exporter": "python",
   "pygments_lexer": "ipython3",
   "version": "3.8.3"
  }
 },
 "nbformat": 4,
 "nbformat_minor": 4
}
