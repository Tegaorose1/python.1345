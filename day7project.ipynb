{
 "cells": [
  {
   "cell_type": "markdown",
   "metadata": {},
   "source": [
    "# The owner of effective car rental services has asked you to build an admin system that will perform the following operatons\n",
    "# 1.Add car details\n",
    "# 2.Modify car details\n",
    "# 3.Display Records\n",
    "# 4.Search for a specific record\n",
    "# 5.Update the returned rented car\n",
    "# 6.Exit"
   ]
  },
  {
   "cell_type": "code",
   "execution_count": 14,
   "metadata": {},
   "outputs": [
    {
     "ename": "IndentationError",
     "evalue": "expected an indented block (<ipython-input-14-42cb5209434e>, line 32)",
     "output_type": "error",
     "traceback": [
      "\u001b[1;36m  File \u001b[1;32m\"<ipython-input-14-42cb5209434e>\"\u001b[1;36m, line \u001b[1;32m32\u001b[0m\n\u001b[1;33m    print(key,':',val)\u001b[0m\n\u001b[1;37m    ^\u001b[0m\n\u001b[1;31mIndentationError\u001b[0m\u001b[1;31m:\u001b[0m expected an indented block\n"
     ]
    }
   ],
   "source": [
    "admin = {\n",
    "    'admn1':['okonsp23','tigre112'],\n",
    "    'admin2':['james44n','popb229']\n",
    "}\n",
    "car_details ={\n",
    "    \n",
    "}\n",
    "def check_admin():\n",
    "    admin_key = input('enter your id number\\n')\n",
    "    username = admin_key[0]\n",
    "    password = admin_key[1]\n",
    "    for i in admin.keys():\n",
    "        if i == admin_key and i[0] == username and i[1] ==  password:\n",
    "            print('valid user proceed to dashboard')\n",
    "            break\n",
    "    else:\n",
    "            print('invalid user')\n",
    "            \n",
    "def addcar():\n",
    "    car_details[input('Car ID')] = [input('Car Brand'),input('Car Model'),input('Car Color'),input('Plate Number'),int(input('Year Released')),input('Availability')]\n",
    "\n",
    "    \n",
    "    \n",
    "#def modifycar():\n",
    "    #key = input('please provide Car ID:')\n",
    "    #for i in car_details.keys():\n",
    "    #if i == key:\n",
    "\n",
    "\n",
    "\n",
    "def displaycar():\n",
    "    for key,val in car_details.items():\n",
    "    print(key,':',val)\n",
    "def searchcar():    \n",
    "    key = input('please provide car id:')\n",
    "    for i in car_details.keys():\n",
    "        if i == key:\n",
    "        print(i)\n",
    "    else:\n",
    "        print('Not Available')\n",
    "def main():\n",
    "    check_admin()\n",
    "        print('''operation\n",
    "Add car\n",
    "Display car\n",
    "Search car\n",
    "''')\n",
    "    choice = int(input('choose your operation:'))\n",
    "    if choice == 1:\n",
    "        addcar()\n",
    "    elif choice ==2:\n",
    "        displaycar()\n",
    "    elif choice == 3:\n",
    "        searchcar()\n",
    "    else:\n",
    "        print('invalid operation')\n",
    "        \n",
    "main()        "
   ]
  },
  {
   "cell_type": "code",
   "execution_count": null,
   "metadata": {},
   "outputs": [],
   "source": [
    "addcar()"
   ]
  },
  {
   "cell_type": "code",
   "execution_count": 15,
   "metadata": {},
   "outputs": [
    {
     "data": {
      "text/plain": [
       "{'A001': ['mercedes benz', 'GLK', 'blue', 'ARD2279KD', 2016, 'Available'],\n",
       " 'A002': ['camry xp', 'toyota', 'black', 'ABJ9968BW', 2019, 'Available']}"
      ]
     },
     "execution_count": 15,
     "metadata": {},
     "output_type": "execute_result"
    }
   ],
   "source": [
    "car_details"
   ]
  },
  {
   "cell_type": "code",
   "execution_count": 16,
   "metadata": {},
   "outputs": [],
   "source": [
    "def addcar():\n",
    "    car_details[input('Car ID')] =  [input('Car Brand'),input('Car Model'),input('Car Color'),input('Plate Number'),int(input('Year Released')),input('Availability')]"
   ]
  },
  {
   "cell_type": "code",
   "execution_count": null,
   "metadata": {},
   "outputs": [],
   "source": []
  }
 ],
 "metadata": {
  "kernelspec": {
   "display_name": "Python 3",
   "language": "python",
   "name": "python3"
  },
  "language_info": {
   "codemirror_mode": {
    "name": "ipython",
    "version": 3
   },
   "file_extension": ".py",
   "mimetype": "text/x-python",
   "name": "python",
   "nbconvert_exporter": "python",
   "pygments_lexer": "ipython3",
   "version": "3.8.5"
  }
 },
 "nbformat": 4,
 "nbformat_minor": 4
}
