{
 "cells": [
  {
   "cell_type": "code",
   "execution_count": 7,
   "metadata": {},
   "outputs": [
    {
     "name": "stdout",
     "output_type": "stream",
     "text": [
      "Enter mark obtained in 8 subjects:\n"
     ]
    },
    {
     "name": "stdin",
     "output_type": "stream",
     "text": [
      " 74\n",
      " 84\n",
      " 93\n",
      " 83\n",
      " 32\n",
      " 83\n",
      " 83\n",
      " 72\n"
     ]
    },
    {
     "name": "stdout",
     "output_type": "stream",
     "text": [
      "Invalid input\n"
     ]
    }
   ],
   "source": [
    "print('Enter mark obtained in 8 subjects:')\n",
    "mark1 = int(input())\n",
    "mark2 = int(input())\n",
    "mark3 = int(input())\n",
    "mark4 = int(input())\n",
    "mark5 = int(input())\n",
    "mark6 = int(input())\n",
    "mark7 = int(input())\n",
    "mark8 = int(input())\n",
    "\n",
    "tot = mark1+mark2+mark3+mark4+mark5+mark6+mark7+mark8\n",
    "avg = tot/5\n",
    "\n",
    "if avg >= 91 and avg <= 100:\n",
    "    print('Your grade is A1')\n",
    "elif avg >= 81 and avg < 91:\n",
    "    print('Your grade is A2')\n",
    "elif avg >= 71 and avg < 81:\n",
    "    print('Your grade is B3')\n",
    "elif avg >= 61 and avg < 71:\n",
    "    print('Your grade is B4')\n",
    "elif avg >= 51 and avg < 61:\n",
    "    print('Your grade is C5')\n",
    "elif avg >= 41 and avg < 51:\n",
    "    print('Your grade is C6')\n",
    "elif avg >= 31 and avg < 41:\n",
    "    print('Your grade is D7')\n",
    "elif avg >= 21 and avg < 31:\n",
    "    print('Your grade is E8')\n",
    "elif avg >= 0 and avg < 21:\n",
    "    print('Your grade is F9')\n",
    "else:\n",
    "    print('Invalid input')"
   ]
  },
  {
   "cell_type": "code",
   "execution_count": 8,
   "metadata": {},
   "outputs": [
    {
     "name": "stdout",
     "output_type": "stream",
     "text": [
      "Enter marks obtained in 8 subjects:\n"
     ]
    },
    {
     "name": "stdin",
     "output_type": "stream",
     "text": [
      " 56\n",
      " 76\n",
      " 87\n",
      " 90\n",
      " 45\n",
      " 44\n",
      " 34\n",
      " 56\n"
     ]
    },
    {
     "name": "stdout",
     "output_type": "stream",
     "text": [
      "Your grade is A1\n"
     ]
    }
   ],
   "source": [
    "mark = []\n",
    "tot = 0\n",
    "print('Enter marks obtained in 8 subjects:')\n",
    "for i in range(8):\n",
    "    mark.append(input())\n",
    "    \n",
    "for i in range(8):\n",
    "    tot = tot + int(mark[i])\n",
    "avg = tot/5\n",
    "\n",
    "if avg >= 91 and avg <= 100:\n",
    "    print('Your grade is A1')\n",
    "elif avg >= 81 and avg < 91:\n",
    "    print('Your grade is B2')\n",
    "elif avg >= 71 and avg < 81:\n",
    "    print('Your grade is B3')\n",
    "elif avg >= 61 and avg < 71:\n",
    "    print('Your grade is C4')\n",
    "elif avg >= 51 and avg < 61: \n",
    "    print('Your grade is C5')\n",
    "elif avg >= 41 and avg < 51: \n",
    "    print('Your grade is C6')\n",
    "elif avg >= 31 and avg < 41:\n",
    "    print('Your grade is D7')\n",
    "elif avg >= 21 and avg < 31:\n",
    "    print('Your grade is E8')\n",
    "elif avg >= 0 and avg < 21:  \n",
    "    print('Your grade is F9')\n",
    "else:\n",
    "    print('Invalid Input')"
   ]
  },
  {
   "cell_type": "code",
   "execution_count": null,
   "metadata": {},
   "outputs": [],
   "source": []
  }
 ],
 "metadata": {
  "kernelspec": {
   "display_name": "Python 3",
   "language": "python",
   "name": "python3"
  },
  "language_info": {
   "codemirror_mode": {
    "name": "ipython",
    "version": 3
   },
   "file_extension": ".py",
   "mimetype": "text/x-python",
   "name": "python",
   "nbconvert_exporter": "python",
   "pygments_lexer": "ipython3",
   "version": "3.8.5"
  }
 },
 "nbformat": 4,
 "nbformat_minor": 5
}
