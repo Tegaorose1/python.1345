{
 "cells": [
  {
   "cell_type": "code",
   "execution_count": 2,
   "metadata": {},
   "outputs": [],
   "source": [
    "#try: it checks or test if there is an error in the code or not\n",
    "#except: it handles all errors, but we can handle a specific error as well\n",
    "# finally: with or without an error everything will execute\n",
    "#else: when an error occurs the program under the else block will not execute"
   ]
  },
  {
   "cell_type": "code",
   "execution_count": 5,
   "metadata": {},
   "outputs": [
    {
     "name": "stdout",
     "output_type": "stream",
     "text": [
      "Enter the first number:10\n",
      "Enter the second number:5\n",
      "2.0\n"
     ]
    }
   ],
   "source": [
    "try:\n",
    "    num1 = int(input('Enter the first number:'))\n",
    "    num2 = int(input('Enter the second number:'))\n",
    "    print(num1/num2)\n",
    "except:\n",
    "    print('You have encountered one or more errors')"
   ]
  },
  {
   "cell_type": "code",
   "execution_count": 9,
   "metadata": {},
   "outputs": [
    {
     "name": "stdout",
     "output_type": "stream",
     "text": [
      "Enter the first number:23\n",
      "Enter the second number:8\n",
      "2.875\n"
     ]
    }
   ],
   "source": [
    "try:\n",
    "    num1 = int(input('Enter the first number:'))\n",
    "    num2 = int(input('Enter the second number:'))\n",
    "    print(num1/num2)\n",
    "except ValueError:\n",
    "    print('You have entered the wrong value, a whole number is expected')\n",
    "except ZeroDivisionError:\n",
    "    print('You cannot divide a number by zero')\n",
    "except:\n",
    "    print('You have encountered one or more errors')    "
   ]
  },
  {
   "cell_type": "code",
   "execution_count": 14,
   "metadata": {},
   "outputs": [
    {
     "name": "stdout",
     "output_type": "stream",
     "text": [
      "Enter the first number:16\n",
      "Enter the second number:4\n",
      "choose an operation (+,-,/,*):*\n",
      "64 is your answer\n",
      "16 is an even number\n"
     ]
    }
   ],
   "source": [
    "try:\n",
    "    num1 = int(input('Enter the first number:'))\n",
    "    num2 = int(input('Enter the second number:'))\n",
    "    choice = input('choose an operation (+,-,/,*):')\n",
    "    if choice == '+':\n",
    "        print(f'{num1+num2} is your answer')\n",
    "    elif choice == '-':\n",
    "        print(f'{num1-num2} is your answer')\n",
    "    elif choice == '/':\n",
    "        print(f'{num1/num2} is your answer')\n",
    "    elif choice == '*':\n",
    "        print(f'{num1*num2} is your answer')\n",
    "    else:\n",
    "        print('Invalid operation')\n",
    "except ValueError:\n",
    "    print('You have entered the wrong value, a whole number is expected')\n",
    "except ZeroDivisionError:\n",
    "    print('You cannot divide a number by zero')\n",
    "except:\n",
    "    print('You have encountered one or more errors') \n",
    "else:\n",
    "    if num1 % 2 == 0:\n",
    "        print(f'{num1} is an even number')\n",
    "    else:\n",
    "        print(f'{num1} is an odd number')"
   ]
  },
  {
   "cell_type": "code",
   "execution_count": 15,
   "metadata": {},
   "outputs": [
    {
     "name": "stdout",
     "output_type": "stream",
     "text": [
      "Enter the first number:16\n",
      "Enter the second number:4\n",
      "choose an operation (+,-,/,*):/\n",
      "4.0 is your answer\n",
      "16 is an even number\n",
      "End of program\n"
     ]
    }
   ],
   "source": [
    "try:\n",
    "    num1 = int(input('Enter the first number:'))\n",
    "    num2 = int(input('Enter the second number:'))\n",
    "    choice = input('choose an operation (+,-,/,*):')\n",
    "    if choice == '+':\n",
    "        print(f'{num1+num2} is your answer')\n",
    "    elif choice == '-':\n",
    "        print(f'{num1-num2} is your answer')\n",
    "    elif choice == '/':\n",
    "        print(f'{num1/num2} is your answer')\n",
    "    elif choice == '*':\n",
    "        print(f'{num1*num2} is your answer')\n",
    "    else:\n",
    "        print('Invalid operation')\n",
    "except ValueError:\n",
    "    print('You have entered the wrong value, a whole number is expected')\n",
    "except ZeroDivisionError:\n",
    "    print('You cannot divide a number by zero')\n",
    "except:\n",
    "    print('You have encountered one or more errors') \n",
    "else:\n",
    "    if num1 % 2 == 0:\n",
    "        print(f'{num1} is an even number')\n",
    "    else:\n",
    "        print(f'{num1} is an odd number')\n",
    "finally:\n",
    "    print('End of program')"
   ]
  },
  {
   "cell_type": "markdown",
   "metadata": {},
   "source": [
    "Exercise"
   ]
  },
  {
   "cell_type": "code",
   "execution_count": 19,
   "metadata": {},
   "outputs": [
    {
     "name": "stdout",
     "output_type": "stream",
     "text": [
      "Enter any side dish:Drinks\n",
      "choose a row:row3\n",
      "You have ordered Pastry and Drinks\n",
      "Thank you for patronizing us, we appreciate it\n",
      "End of program\n"
     ]
    }
   ],
   "source": [
    "try:\n",
    "    row1 = 'Rice'\n",
    "    row2 = 'Swallow'\n",
    "    row3 = 'Pastry'\n",
    "    row4 = 'Pepper soup'\n",
    "    side_dish = input('Enter any side dish:')\n",
    "    choice = input('choose a row:')\n",
    "    if choice == 'row1':\n",
    "        print(f'You have ordered {row1} and {side_dish}')\n",
    "    elif choice == 'row2':\n",
    "        print(f'You have ordered {row2} and {side_dish}')\n",
    "    elif choice == 'row3':\n",
    "        print(f'You have ordered {row3} and {side_dish}')\n",
    "    elif choice == 'row4':\n",
    "        print(f'You have ordered {row4} and {side_dish}')\n",
    "    else:\n",
    "        print('Invalid operation')\n",
    "except ValueError:\n",
    "    print('You have entered the wrong value, a whole number is expected')\n",
    "except TypeError:\n",
    "    print('You have entered an incorrect function')\n",
    "except:\n",
    "    print('You have encountered one or more errors') \n",
    "else:\n",
    "    print('Thank you for patronizing us, we appreciate it')\n",
    "finally:\n",
    "    print('End of program')"
   ]
  },
  {
   "cell_type": "code",
   "execution_count": null,
   "metadata": {},
   "outputs": [],
   "source": []
  }
 ],
 "metadata": {
  "kernelspec": {
   "display_name": "Python 3",
   "language": "python",
   "name": "python3"
  },
  "language_info": {
   "codemirror_mode": {
    "name": "ipython",
    "version": 3
   },
   "file_extension": ".py",
   "mimetype": "text/x-python",
   "name": "python",
   "nbconvert_exporter": "python",
   "pygments_lexer": "ipython3",
   "version": "3.8.5"
  }
 },
 "nbformat": 4,
 "nbformat_minor": 4
}
