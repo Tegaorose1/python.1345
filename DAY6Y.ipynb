{
 "cells": [
  {
   "cell_type": "markdown",
   "metadata": {},
   "source": [
    "# loops"
   ]
  },
  {
   "cell_type": "code",
   "execution_count": 10,
   "metadata": {},
   "outputs": [],
   "source": [
    "# counter = counter + 1   counter+=1\n",
    "# counter = counter - 1   counter -=1 are the same thing"
   ]
  },
  {
   "cell_type": "code",
   "execution_count": 3,
   "metadata": {},
   "outputs": [
    {
     "name": "stdout",
     "output_type": "stream",
     "text": [
      "apple\n",
      "banana\n",
      "orange\n",
      "grape\n"
     ]
    }
   ],
   "source": [
    "fruits = ['apple', 'banana', 'orange', 'grape']\n",
    "for val in fruits:\n",
    "    print(val)"
   ]
  },
  {
   "cell_type": "code",
   "execution_count": 6,
   "metadata": {},
   "outputs": [
    {
     "name": "stdout",
     "output_type": "stream",
     "text": [
      "red apple\n",
      "yellow apple\n",
      "green apple\n",
      "red banana\n",
      "yellow banana\n",
      "green banana\n",
      "red orange\n",
      "yellow orange\n",
      "green orange\n",
      "red grape\n",
      "yellow grape\n",
      "green grape\n"
     ]
    }
   ],
   "source": [
    "fruits = ['apple', 'banana', 'orange', 'grape']\n",
    "colours = ['red', 'yellow', 'green']\n",
    "for val in fruits:\n",
    "    for col in colours:\n",
    "        print(col,val)"
   ]
  },
  {
   "cell_type": "code",
   "execution_count": 12,
   "metadata": {},
   "outputs": [
    {
     "name": "stdout",
     "output_type": "stream",
     "text": [
      "apple\n",
      "orange\n",
      "grape\n"
     ]
    }
   ],
   "source": [
    "fruits = ['apple', 'banana', 'orange', 'grape']\n",
    "for i in fruits:\n",
    "    if i == 'banana':\n",
    "        continue\n",
    "    print(i)"
   ]
  },
  {
   "cell_type": "code",
   "execution_count": 13,
   "metadata": {},
   "outputs": [
    {
     "name": "stdout",
     "output_type": "stream",
     "text": [
      "apple\n"
     ]
    }
   ],
   "source": [
    "fruits = ['apple', 'banana', 'orange', 'grape']\n",
    "for i in fruits:\n",
    "    if i == 'banana':\n",
    "        break\n",
    "    print(i)"
   ]
  },
  {
   "cell_type": "code",
   "execution_count": 14,
   "metadata": {},
   "outputs": [
    {
     "name": "stdout",
     "output_type": "stream",
     "text": [
      "apple\n",
      "banana\n",
      "orange\n",
      "grape\n"
     ]
    }
   ],
   "source": [
    "fruits = ['apple', 'banana', 'orange', 'grape']\n",
    "for i in fruits:\n",
    "    if i == 'banana':\n",
    "        pass\n",
    "    print(i)"
   ]
  },
  {
   "cell_type": "code",
   "execution_count": 3,
   "metadata": {},
   "outputs": [
    {
     "name": "stdout",
     "output_type": "stream",
     "text": [
      "1\n",
      "2\n",
      "3\n",
      "4\n",
      "5\n",
      "6\n",
      "7\n",
      "8\n",
      "9\n",
      "10\n",
      "11\n",
      "12\n",
      "13\n",
      "14\n",
      "15\n",
      "16\n",
      "17\n",
      "18\n",
      "19\n",
      "20\n",
      "21\n",
      "22\n",
      "23\n",
      "24\n",
      "25\n",
      "26\n",
      "27\n",
      "28\n",
      "29\n",
      "30\n",
      "31\n",
      "32\n",
      "33\n",
      "34\n",
      "35\n",
      "36\n",
      "37\n",
      "38\n",
      "39\n",
      "40\n",
      "41\n",
      "42\n",
      "43\n",
      "44\n",
      "45\n",
      "46\n",
      "47\n",
      "48\n",
      "49\n",
      "50\n"
     ]
    }
   ],
   "source": [
    "for i in range(1,51):\n",
    "    print(i)"
   ]
  },
  {
   "cell_type": "code",
   "execution_count": 6,
   "metadata": {},
   "outputs": [
    {
     "name": "stdout",
     "output_type": "stream",
     "text": [
      "1 is an odd number\n",
      "2 is an even number\n",
      "3 is an odd number\n",
      "4 is an even number\n",
      "5 is an odd number\n",
      "6 is an even number\n",
      "7 is an odd number\n",
      "8 is an even number\n",
      "9 is an odd number\n",
      "10 is an even number\n",
      "11 is an odd number\n",
      "12 is an even number\n",
      "13 is an odd number\n",
      "14 is an even number\n",
      "15 is an odd number\n",
      "16 is an even number\n",
      "17 is an odd number\n",
      "18 is an even number\n",
      "19 is an odd number\n",
      "20 is an even number\n",
      "21 is an odd number\n",
      "22 is an even number\n",
      "23 is an odd number\n",
      "24 is an even number\n",
      "25 is an odd number\n",
      "26 is an even number\n",
      "27 is an odd number\n",
      "28 is an even number\n",
      "29 is an odd number\n",
      "30 is an even number\n",
      "31 is an odd number\n",
      "32 is an even number\n",
      "33 is an odd number\n",
      "34 is an even number\n",
      "35 is an odd number\n",
      "36 is an even number\n",
      "37 is an odd number\n",
      "38 is an even number\n",
      "39 is an odd number\n",
      "40 is an even number\n",
      "41 is an odd number\n",
      "42 is an even number\n",
      "43 is an odd number\n",
      "44 is an even number\n",
      "45 is an odd number\n",
      "46 is an even number\n",
      "47 is an odd number\n",
      "48 is an even number\n",
      "49 is an odd number\n",
      "50 is an even number\n"
     ]
    }
   ],
   "source": [
    "for i in range (1,51):\n",
    "    if i % 2 == 1:\n",
    "        print(f'{i} is an odd number')\n",
    "    else:\n",
    "        print(f'{i} is an even number')"
   ]
  },
  {
   "cell_type": "code",
   "execution_count": 1,
   "metadata": {},
   "outputs": [
    {
     "name": "stdin",
     "output_type": "stream",
     "text": [
      "please provide a number: 45\n"
     ]
    },
    {
     "name": "stdout",
     "output_type": "stream",
     "text": [
      "45 x 1 = 45\n",
      "45 x 2 = 90\n",
      "45 x 3 = 135\n",
      "45 x 4 = 180\n",
      "45 x 5 = 225\n",
      "45 x 6 = 270\n",
      "45 x 7 = 315\n",
      "45 x 8 = 360\n",
      "45 x 9 = 405\n",
      "45 x 10 = 450\n",
      "45 x 11 = 495\n",
      "45 x 12 = 540\n"
     ]
    }
   ],
   "source": [
    " num = int(input('please provide a number:'))\n",
    "for i in range(1,13):\n",
    "    print(f'{num} x {i} = {num*i}')"
   ]
  },
  {
   "cell_type": "code",
   "execution_count": 2,
   "metadata": {},
   "outputs": [
    {
     "name": "stdin",
     "output_type": "stream",
     "text": [
      "please provide a number: 64\n"
     ]
    },
    {
     "name": "stdout",
     "output_type": "stream",
     "text": [
      "64 x 1 = 64.0\n",
      "64 x 2 = 32.0\n",
      "64 x 3 = 21.333333333333332\n",
      "64 x 4 = 16.0\n",
      "64 x 5 = 12.8\n",
      "64 x 6 = 10.666666666666666\n",
      "64 x 7 = 9.142857142857142\n",
      "64 x 8 = 8.0\n",
      "64 x 9 = 7.111111111111111\n",
      "64 x 10 = 6.4\n",
      "64 x 11 = 5.818181818181818\n",
      "64 x 12 = 5.333333333333333\n"
     ]
    }
   ],
   "source": [
    "num = int (input('please provide a number:'))\n",
    "for i in range(1,13):\n",
    "    print(f'{num} x {i} = {num/i}')"
   ]
  },
  {
   "cell_type": "markdown",
   "metadata": {},
   "source": [
    "# using while loop"
   ]
  },
  {
   "cell_type": "code",
   "execution_count": 4,
   "metadata": {},
   "outputs": [
    {
     "name": "stdin",
     "output_type": "stream",
     "text": [
      "please provide a number: 50\n"
     ]
    },
    {
     "name": "stdout",
     "output_type": "stream",
     "text": [
      "50 x 1 = 50\n",
      "50 x 2 = 100\n",
      "50 x 3 = 150\n",
      "50 x 4 = 200\n",
      "50 x 5 = 250\n",
      "50 x 6 = 300\n",
      "50 x 7 = 350\n",
      "50 x 8 = 400\n",
      "50 x 9 = 450\n",
      "50 x 10 = 500\n",
      "50 x 11 = 550\n",
      "50 x 12 = 600\n"
     ]
    }
   ],
   "source": [
    "num = int(input('please provide a number:'))\n",
    "counter = 1\n",
    "while counter <= 12:\n",
    "    print(f'{num} x {counter} = {num*counter}')\n",
    "    counter +=1"
   ]
  },
  {
   "cell_type": "code",
   "execution_count": null,
   "metadata": {},
   "outputs": [],
   "source": [
    "import random\n",
    "num = random.randint(1,21)\n",
    "counter = 0\n",
    "guess = int(input('enter your guess between 1 and 20:'))\n",
    "while guess != num:\n",
    "    print(f'your guess is {guess}')\n",
    "    counter+=1\n",
    "    if guess > num:\n",
    "        print('your guess is right')\n",
    "    elif guess < num:\n",
    "        print('your guess is wrong')\n",
    "    guess = int(input('enter your guess between 1 and 20:'))\n",
    "print('congratulations your guess is correct good job')    "
   ]
  },
  {
   "cell_type": "code",
   "execution_count": null,
   "metadata": {},
   "outputs": [],
   "source": []
  }
 ],
 "metadata": {
  "kernelspec": {
   "display_name": "Python 3",
   "language": "python",
   "name": "python3"
  },
  "language_info": {
   "codemirror_mode": {
    "name": "ipython",
    "version": 3
   },
   "file_extension": ".py",
   "mimetype": "text/x-python",
   "name": "python",
   "nbconvert_exporter": "python",
   "pygments_lexer": "ipython3",
   "version": "3.8.5"
  }
 },
 "nbformat": 4,
 "nbformat_minor": 4
}
