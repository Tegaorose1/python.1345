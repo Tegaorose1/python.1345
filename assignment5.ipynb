{
 "cells": [
  {
   "cell_type": "code",
   "execution_count": null,
   "metadata": {},
   "outputs": [],
   "source": []
  },
  {
   "cell_type": "code",
   "execution_count": 4,
   "metadata": {},
   "outputs": [
    {
     "name": "stdin",
     "output_type": "stream",
     "text": [
      "please enter the age: 35\n",
      "please enter gender: female\n",
      "please enter gender: male\n",
      "please enter marital status single\n",
      "please enter marital status married\n",
      "please input state of your choice lagos\n",
      "please enter location of work head office\n"
     ]
    },
    {
     "ename": "NameError",
     "evalue": "name 'female' is not defined",
     "output_type": "error",
     "traceback": [
      "\u001b[1;31m---------------------------------------------------------------------------\u001b[0m",
      "\u001b[1;31mNameError\u001b[0m                                 Traceback (most recent call last)",
      "\u001b[1;32m<ipython-input-4-845bfe3f0816>\u001b[0m in \u001b[0;36m<module>\u001b[1;34m\u001b[0m\n\u001b[0;32m      8\u001b[0m \u001b[0mperson\u001b[0m \u001b[1;33m=\u001b[0m \u001b[1;34m'employee'\u001b[0m\u001b[1;33m\u001b[0m\u001b[1;33m\u001b[0m\u001b[0m\n\u001b[0;32m      9\u001b[0m \u001b[0mgender\u001b[0m \u001b[1;33m=\u001b[0m \u001b[1;34m'male or female'\u001b[0m\u001b[1;33m\u001b[0m\u001b[1;33m\u001b[0m\u001b[0m\n\u001b[1;32m---> 10\u001b[1;33m \u001b[1;32mif\u001b[0m \u001b[0mperson\u001b[0m \u001b[1;32mis\u001b[0m \u001b[0mfemale\u001b[0m \u001b[1;32mand\u001b[0m \u001b[0mmarried\u001b[0m\u001b[1;33m:\u001b[0m\u001b[1;33m\u001b[0m\u001b[1;33m\u001b[0m\u001b[0m\n\u001b[0m\u001b[0;32m     11\u001b[0m            \u001b[0mprint\u001b[0m\u001b[1;33m(\u001b[0m\u001b[1;34m'you will stay at the head office'\u001b[0m\u001b[1;33m)\u001b[0m\u001b[1;33m\u001b[0m\u001b[1;33m\u001b[0m\u001b[0m\n\u001b[0;32m     12\u001b[0m \u001b[1;32melif\u001b[0m \u001b[0mperson\u001b[0m \u001b[1;32mis\u001b[0m \u001b[0mFemale\u001b[0m \u001b[1;32mand\u001b[0m \u001b[0msingle\u001b[0m \u001b[1;32mand\u001b[0m \u001b[0mbelow\u001b[0m \u001b[1;33m[\u001b[0m\u001b[1;36m35\u001b[0m\u001b[1;33m]\u001b[0m\u001b[1;33m:\u001b[0m\u001b[1;33m\u001b[0m\u001b[1;33m\u001b[0m\u001b[0m\n",
      "\u001b[1;31mNameError\u001b[0m: name 'female' is not defined"
     ]
    }
   ],
   "source": [
    "age = int(input('please enter the age:'))\n",
    "gender1 = input('please enter gender:')\n",
    "gender2 = input('please enter gender:')\n",
    "marital_status = (input('please enter marital status'))\n",
    "marital_status1 = (input('please enter marital status'))\n",
    "list_of_state = (input('please input state of your choice'))\n",
    "location = (input('please enter location of work'))\n",
    "person = 'employee'\n",
    "if person is female and married:\n",
    "           print('you will stay at the head office')\n",
    "elif person is Female and single and below [35]:\n",
    "           print('you have been posted to another state')\n",
    "elif person is male and single:\n",
    "           print('you have been posted to another state')\n",
    "elif person is male and married and below [35]:\n",
    "           print('you have been posted to another state and all expenses will be taken care of')\n",
    "elif person is male and married and above [35]:\n",
    "           print('you will stay at the head office')"
   ]
  },
  {
   "cell_type": "code",
   "execution_count": null,
   "metadata": {},
   "outputs": [],
   "source": []
  }
 ],
 "metadata": {
  "kernelspec": {
   "display_name": "Python 3",
   "language": "python",
   "name": "python3"
  },
  "language_info": {
   "codemirror_mode": {
    "name": "ipython",
    "version": 3
   },
   "file_extension": ".py",
   "mimetype": "text/x-python",
   "name": "python",
   "nbconvert_exporter": "python",
   "pygments_lexer": "ipython3",
   "version": "3.8.5"
  }
 },
 "nbformat": 4,
 "nbformat_minor": 5
}
