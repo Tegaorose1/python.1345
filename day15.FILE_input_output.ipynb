{
 "cells": [
  {
   "cell_type": "markdown",
   "metadata": {},
   "source": [
    "Files \n",
    "\n",
    "Files are named locations on disks to store related information. They are used to permanently store data in a non-volatile memory (eg. hard disk).\n",
    "\n",
    "Since Random Access Memory(RAM) is volatile (which loses its data when the computer is turned off), we use files for future use of the data by permanently storing them.\n",
    "\n",
    "When we want to read from or write to a file, we need to open it first. When we are done, it needs to be closed so that the resources that are tied with the file are freed.\n",
    "\n",
    "Hence, in python, a file operation takes place in the following order.\n",
    "\n",
    "Open a file\n",
    "\n",
    "Read or write(perform operation)\n",
    "\n",
    "Close the file"
   ]
  },
  {
   "cell_type": "code",
   "execution_count": 10,
   "metadata": {},
   "outputs": [],
   "source": [
    "file = open('demo.txt','w')\n",
    "file.write('''\n",
    "Files \n",
    "Files are named locations on disks to store related information. They are used to permanently store data in a non-volatile memory (eg. hard disk).\n",
    "Since Random Access Memory(RAM) is volatile (which loses its data when the computer is turned off), we use files for future use of the data by permanently storing them.\n",
    "When we want to read from or write to a file, we need to open it first. When we are done, it needs to be closed so that the resources that are tied with the file are freed.\n",
    "Hence, in python, a file operation takes place in the following order.\n",
    "Open a file\n",
    "Read or write(perform operation)\n",
    "Close the file\n",
    "''')\n",
    "file.close()"
   ]
  },
  {
   "cell_type": "code",
   "execution_count": 12,
   "metadata": {},
   "outputs": [],
   "source": [
    "file = open('demo.txt','w')\n",
    "file.write('''\n",
    "Hello there,\n",
    "Welcome to my thought journal.\n",
    "My name is Tega and I'll be your guide on this journey through my own mind.\n",
    "Thanks for joining me today and please try not to cry as my deepest thoughts and desires are revealed before your very eyes\n",
    "Lets interact as good comrades and as one family. Once again thank you all.\n",
    "''')\n",
    "file.close()"
   ]
  },
  {
   "cell_type": "code",
   "execution_count": 1,
   "metadata": {},
   "outputs": [
    {
     "name": "stdout",
     "output_type": "stream",
     "text": [
      "print('hello world')\n",
      "wholenumber = 5\n",
      "decimalnumber = 7.5\n",
      "course = 'python'\n",
      "Y  = False\n",
      "\n",
      "print(wholenumber)\n",
      "print(decimalnumber)\n",
      "print(course)\n",
      "print(Y)\n",
      "\n",
      "word = 'we\\'re brothers from the other side of the town'\n",
      "print(word)\n",
      "poem = 'he was fire,\\nyet he didnt burn me,\\ninstead he lightened me,\\nwild fire still'\n",
      "print(poem)\n",
      "print('\\n')\n",
      "poem2 = '''he was fire,\n",
      "yet he didnt bburn me,\n",
      "instead he lightened me,\n",
      "wild fire still\n",
      "'''\n",
      "print(poem2)\n",
      "print('\\n')\n",
      "print('lagos' + ' ' + 'state')#joining of string and string\n",
      "course = 'python'\n",
      "print('Hey', course, 'is fun')#joining of variable and string or variable and variable\n",
      "surname = 'orose'\n",
      "firstname = 'tega'\n",
      "print(surname, firstname)\n",
      "\n"
     ]
    }
   ],
   "source": [
    "file1 = open('day1.py','r')\n",
    "print(file1.read())\n",
    "file1.close()"
   ]
  },
  {
   "cell_type": "code",
   "execution_count": 2,
   "metadata": {},
   "outputs": [
    {
     "name": "stdout",
     "output_type": "stream",
     "text": [
      "\n",
      "Files \n",
      "Files are named locations on disks to store related information. They are used to permanently store data in a non-volatile memory (eg. hard disk).\n",
      "Since Random Access Memory(RAM) is volatile (which loses its data when the computer is turned off), we use files for future use of the data by permanently storing them.\n",
      "When we want to read from or write to a file, we need to open it first. When we are done, it needs to be closed so that the resources that are tied with the file are freed.\n",
      "Hence, in python, a file operation takes place in the following order.\n",
      "Open a file\n",
      "Read or write(perform operation)\n",
      "Close the file\n",
      "\n"
     ]
    }
   ],
   "source": [
    "file3 = open('demo.txt','r+')\n",
    "print(file3.read())\n",
    "file3.write('''\\nBelow are the content in python\n",
    "1. Syntax\n",
    "2. Variables\n",
    "3. Data types\n",
    "4. Iterable objects\n",
    "5. Operators\n",
    "6. Control flow program\n",
    "7. OOP etc..........\n",
    "''')\n",
    "file3.close()"
   ]
  },
  {
   "cell_type": "code",
   "execution_count": 12,
   "metadata": {},
   "outputs": [
    {
     "name": "stdout",
     "output_type": "stream",
     "text": [
      "\n",
      "Guest list                        Time of arrival:\n",
      "Oyinkosola peters                 15:00\n",
      "Isaac John                        15:24\n",
      "Pearl Lucas                       16:50\n",
      "Paul Akande                       16:00\n",
      "Briggs Rowland                    16:30\n",
      "\n"
     ]
    }
   ],
   "source": [
    "register = open('guestlist.doc','w')\n",
    "register.write('''\\nGuest list                        Time of arrival:\n",
    "Oyinkosola peters                 15:00\n",
    "Isaac John                        15:24\n",
    "Pearl Lucas                       16:50\n",
    "Paul Akande                       16:00\n",
    "Briggs Rowland                    16:30\n",
    "''')\n",
    "register.close()\n",
    "register = open('guestlist.doc','r+')\n",
    "print(register.read())\n",
    "register.write('''Joy Ubochi                        17:00\n",
    "Kemi Babajide                     17:06\n",
    "Daniel Peter                      16:02\n",
    "Bettyna Elumeze                   15:10\n",
    "Divine Kelvin                     16:20\n",
    "''')\n",
    "register.close()"
   ]
  },
  {
   "cell_type": "code",
   "execution_count": 18,
   "metadata": {},
   "outputs": [
    {
     "name": "stdout",
     "output_type": "stream",
     "text": [
      "You have encountered one or more errors\n"
     ]
    },
    {
     "ename": "NameError",
     "evalue": "name 'con_split' is not defined",
     "output_type": "error",
     "traceback": [
      "\u001b[1;31m---------------------------------------------------------------------------\u001b[0m",
      "\u001b[1;31mNameError\u001b[0m                                 Traceback (most recent call last)",
      "\u001b[1;32m<ipython-input-18-9cf188f2eb42>\u001b[0m in \u001b[0;36m<module>\u001b[1;34m\u001b[0m\n\u001b[0;32m     15\u001b[0m             \u001b[0mlarge\u001b[0m \u001b[1;33m=\u001b[0m \u001b[0mword\u001b[0m\u001b[1;33m\u001b[0m\u001b[1;33m\u001b[0m\u001b[0m\n\u001b[0;32m     16\u001b[0m \u001b[1;32mfinally\u001b[0m\u001b[1;33m:\u001b[0m\u001b[1;33m\u001b[0m\u001b[1;33m\u001b[0m\u001b[0m\n\u001b[1;32m---> 17\u001b[1;33m     \u001b[0mprint\u001b[0m\u001b[1;33m(\u001b[0m\u001b[1;34m'The largest word is'\u001b[0m\u001b[1;33m,\u001b[0m \u001b[0mcon_split\u001b[0m\u001b[1;33m[\u001b[0m\u001b[0mlarge\u001b[0m\u001b[1;33m]\u001b[0m\u001b[1;33m)\u001b[0m\u001b[1;33m\u001b[0m\u001b[1;33m\u001b[0m\u001b[0m\n\u001b[0m\u001b[0;32m     18\u001b[0m     \u001b[0mprint\u001b[0m\u001b[1;33m(\u001b[0m\u001b[1;34m'The smallest word is'\u001b[0m\u001b[1;33m,\u001b[0m \u001b[0mcon_split\u001b[0m\u001b[1;33m[\u001b[0m\u001b[0msmall\u001b[0m\u001b[1;33m]\u001b[0m\u001b[1;33m)\u001b[0m\u001b[1;33m\u001b[0m\u001b[1;33m\u001b[0m\u001b[0m\n",
      "\u001b[1;31mNameError\u001b[0m: name 'con_split' is not defined"
     ]
    }
   ],
   "source": [
    "try:\n",
    "    content = open('Computer Crime and its Impact.docx','r')\n",
    "    con_split = content.split()\n",
    "except FileNotFoundError:\n",
    "    print('The file you are trying to read does not exist')\n",
    "except:\n",
    "    print('You have encountered one or more errors')\n",
    "else:\n",
    "    small = large = len(con_split[0])\n",
    "    for i in range(0,len(con_split)):\n",
    "        word = len(con_split[i])\n",
    "        if word <= small:\n",
    "            small = word\n",
    "        if worrd >= large:\n",
    "            large = word\n",
    "finally:\n",
    "    print('The largest word is', con_split[large])\n",
    "    print('The smallest word is', con_split[small])"
   ]
  },
  {
   "cell_type": "code",
   "execution_count": null,
   "metadata": {},
   "outputs": [],
   "source": []
  }
 ],
 "metadata": {
  "kernelspec": {
   "display_name": "Python 3",
   "language": "python",
   "name": "python3"
  },
  "language_info": {
   "codemirror_mode": {
    "name": "ipython",
    "version": 3
   },
   "file_extension": ".py",
   "mimetype": "text/x-python",
   "name": "python",
   "nbconvert_exporter": "python",
   "pygments_lexer": "ipython3",
   "version": "3.8.5"
  }
 },
 "nbformat": 4,
 "nbformat_minor": 4
}
