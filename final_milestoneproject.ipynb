{
 "cells": [
  {
   "cell_type": "code",
   "execution_count": 13,
   "metadata": {},
   "outputs": [],
   "source": [
    "class staff_management_system:\n",
    "    def __init__(self,s_id,s_name,s_gender,s_phone_no,s_email,s_doe,s_department,s_level,s_position):\n",
    "        self.s_id = s_id\n",
    "        self.s_name = s_name\n",
    "        self.s_gender = s_gender\n",
    "        self.s_phone_no = s_phone_no\n",
    "        self.s_email = s_email\n",
    "        self.s_doe = s_doe\n",
    "        self.s_department = s_department\n",
    "        self.s_level = s_level\n",
    "        self.s_position = s_position\n",
    "    def accept(self,S_ID,S_NAME,S_GENDER,S_PHONE_NO,S_EMAIL,S_DOE,S_DEPARTMENT,S_LEVEL,S_POSITION):\n",
    "        ob = staff_management_system(S_ID,S_NAME,S_GENDER,S_PHONE_NO,S_EMAIL,S_DOE,S_DEPARTMENT,S_LEVEL,S_POSITION)\n",
    "        ls.append(ob)\n",
    "    def display(self,ob):\n",
    "        print(f'''staff ID:{ob.s_id}\n",
    "Staff Name:{ob.s_name}\n",
    "Staff Gender:{ob.s_gender}\n",
    "Staff Phone Number:{ob.s_phone_no}\n",
    "Staff Email:{ob.s_email}\n",
    "Staff Date Of Employment:{ob.s_doe}\n",
    "Staff Department:{ob.s_department}\n",
    "Staff Level:{ob.s_level}\n",
    "Staff Position:{ob.s_position}\n",
    "''')\n",
    "    def search(self,ID):\n",
    "        for i in range(len(ls)):\n",
    "            if(ls[i].s_id == ID):\n",
    "                return i\n",
    "    def delete(self,s_id):\n",
    "        i = obj.search(s_id)\n",
    "        del[i]\n",
    "    def update(self,s_id,NN):\n",
    "        n = obj.search(s_id)\n",
    "        roll = NN\n",
    "        ls[i].s_id = roll\n",
    "ls = []\n",
    "obj = staff_management_system('','','','','','','','','')"
   ]
  },
  {
   "cell_type": "code",
   "execution_count": 14,
   "metadata": {},
   "outputs": [],
   "source": [
    "obj.accept('ADM235','Ojukwu Henry','Male','08125698745','henryju@gmail.com','23-05-2000','ADMIN','Intermediate','Administrative2')\n",
    "obj.accept('PLT589','Akpan Okon','Male','08176372878','akpan025@gmail.com','15-05-2000','PLANT','Senior','Senior plant Admin')\n",
    "obj.accept('SFTY897','Paul Michaels','Male','08025389793','paulmic23@gmail.com','02-05-2000','SAFETY','Senior','Senior safety Admin')\n",
    "obj.accept('ADM4535','Joy James','Female','07025783733','joy226@gmail.com','22-05-2000','ADMIN','Junior','Clerk')\n",
    "obj.accept('ELT25698','Oghene Obafo','Male','08028398938','ogheneoba88@gmail.com','13-05-2000','ELECTRICAL','Intermediate','Administrative2')"
   ]
  },
  {
   "cell_type": "code",
   "execution_count": null,
   "metadata": {},
   "outputs": [],
   "source": [
    "for i in range(lens(ls)):\n",
    "    obj.display"
   ]
  }
 ],
 "metadata": {
  "kernelspec": {
   "display_name": "Python 3",
   "language": "python",
   "name": "python3"
  },
  "language_info": {
   "codemirror_mode": {
    "name": "ipython",
    "version": 3
   },
   "file_extension": ".py",
   "mimetype": "text/x-python",
   "name": "python",
   "nbconvert_exporter": "python",
   "pygments_lexer": "ipython3",
   "version": "3.8.5"
  }
 },
 "nbformat": 4,
 "nbformat_minor": 4
}
