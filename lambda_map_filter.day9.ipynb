{
 "cells": [
  {
   "cell_type": "code",
   "execution_count": 1,
   "metadata": {},
   "outputs": [
    {
     "data": {
      "text/plain": [
       "2.8284271247461903"
      ]
     },
     "execution_count": 1,
     "metadata": {},
     "output_type": "execute_result"
    }
   ],
   "source": [
    "import math\n",
    "(lambda x:math.sqrt(x))(8)"
   ]
  },
  {
   "cell_type": "code",
   "execution_count": 18,
   "metadata": {},
   "outputs": [
    {
     "name": "stdout",
     "output_type": "stream",
     "text": [
      "True\n"
     ]
    }
   ],
   "source": [
    "name = 'Taiwo'\n",
    "if name[0] == name[0].upper():\n",
    "    print(True)\n",
    "else: \n",
    "    print(False)"
   ]
  },
  {
   "cell_type": "code",
   "execution_count": 19,
   "metadata": {},
   "outputs": [
    {
     "name": "stdin",
     "output_type": "stream",
     "text": [
      "please enter your name Tope\n"
     ]
    },
    {
     "data": {
      "text/plain": [
       "False"
      ]
     },
     "execution_count": 19,
     "metadata": {},
     "output_type": "execute_result"
    }
   ],
   "source": [
    "(lambda name: True if name[0] == 'S' else False)(input('please enter your name'))"
   ]
  },
  {
   "cell_type": "code",
   "execution_count": 22,
   "metadata": {},
   "outputs": [
    {
     "name": "stdin",
     "output_type": "stream",
     "text": [
      "please enter your password Somi1\n"
     ]
    },
    {
     "data": {
      "text/plain": [
       "True"
      ]
     },
     "execution_count": 22,
     "metadata": {},
     "output_type": "execute_result"
    }
   ],
   "source": [
    "(lambda password: True if (password[0] == password[0].upper()) and (password[-1] == '0') or (password[-1] == '1') or (password[-1] == '2') or (password[-1] == '3') or (password[-1] == '4') else False)(input('please enter your password'))"
   ]
  },
  {
   "cell_type": "code",
   "execution_count": 31,
   "metadata": {},
   "outputs": [
    {
     "name": "stdin",
     "output_type": "stream",
     "text": [
      "enter the number 6\n"
     ]
    },
    {
     "data": {
      "text/plain": [
       "'number is even'"
      ]
     },
     "execution_count": 31,
     "metadata": {},
     "output_type": "execute_result"
    }
   ],
   "source": [
    "(lambda number: 'number is even' if number%2 == 0 else 'number is odd')(int(input('enter the number')))"
   ]
  },
  {
   "cell_type": "code",
   "execution_count": 32,
   "metadata": {},
   "outputs": [],
   "source": [
    "numbers = []\n",
    "counter =1\n",
    "import random\n",
    "while counter <= 30:\n",
    "    num = random.randint(25,35)\n",
    "    numbers.append(num)\n",
    "    counter +=1"
   ]
  },
  {
   "cell_type": "code",
   "execution_count": 34,
   "metadata": {},
   "outputs": [],
   "source": [
    "import math\n",
    "numbers_update = list(map(lambda num: math.sqrt(num),numbers))"
   ]
  },
  {
   "cell_type": "code",
   "execution_count": 35,
   "metadata": {},
   "outputs": [
    {
     "data": {
      "text/plain": [
       "[5.0,\n",
       " 5.0,\n",
       " 5.916079783099616,\n",
       " 5.0990195135927845,\n",
       " 5.830951894845301,\n",
       " 5.656854249492381,\n",
       " 5.0,\n",
       " 5.5677643628300215,\n",
       " 5.0990195135927845,\n",
       " 5.291502622129181,\n",
       " 5.291502622129181,\n",
       " 5.916079783099616,\n",
       " 5.385164807134504,\n",
       " 5.0,\n",
       " 5.916079783099616,\n",
       " 5.291502622129181,\n",
       " 5.291502622129181,\n",
       " 5.830951894845301,\n",
       " 5.477225575051661,\n",
       " 5.656854249492381,\n",
       " 5.744562646538029,\n",
       " 5.916079783099616,\n",
       " 5.196152422706632,\n",
       " 5.291502622129181,\n",
       " 5.477225575051661,\n",
       " 5.385164807134504,\n",
       " 5.477225575051661,\n",
       " 5.385164807134504,\n",
       " 5.916079783099616,\n",
       " 5.291502622129181]"
      ]
     },
     "execution_count": 35,
     "metadata": {},
     "output_type": "execute_result"
    }
   ],
   "source": [
    "numbers_update"
   ]
  },
  {
   "cell_type": "code",
   "execution_count": 60,
   "metadata": {},
   "outputs": [],
   "source": [
    "numbers = []\n",
    "counter =1\n",
    "import random\n",
    "while counter <= 30:\n",
    "    num = random.randint(25,35)\n",
    "    numbers.append(num)\n",
    "    counter +=1\n",
    "    \n",
    "import math\n",
    "numbers_update = list(map(lambda num: num**2,numbers))\n",
    "    \n",
    "numbers_update1 = list(filter(lambda num: num%2 == 0,numbers))\n",
    "numbers_update2 = list(filter(lambda num: num%2 == 1,numbers))\n",
    "numbers_update3 = list(map(lambda num: num*2,numbers))\n",
    "numbers_update4 = list(map(lambda num: math.sqrt(num),numbers))    "
   ]
  },
  {
   "cell_type": "code",
   "execution_count": 61,
   "metadata": {},
   "outputs": [
    {
     "data": {
      "text/plain": [
       "[729,\n",
       " 625,\n",
       " 1089,\n",
       " 784,\n",
       " 1225,\n",
       " 784,\n",
       " 1225,\n",
       " 961,\n",
       " 841,\n",
       " 961,\n",
       " 1156,\n",
       " 1156,\n",
       " 841,\n",
       " 1089,\n",
       " 625,\n",
       " 1024,\n",
       " 961,\n",
       " 1089,\n",
       " 1024,\n",
       " 784,\n",
       " 1089,\n",
       " 1225,\n",
       " 900,\n",
       " 961,\n",
       " 961,\n",
       " 841,\n",
       " 784,\n",
       " 900,\n",
       " 1024,\n",
       " 625]"
      ]
     },
     "execution_count": 61,
     "metadata": {},
     "output_type": "execute_result"
    }
   ],
   "source": [
    "numbers_update"
   ]
  },
  {
   "cell_type": "code",
   "execution_count": 62,
   "metadata": {},
   "outputs": [
    {
     "data": {
      "text/plain": [
       "[28, 28, 34, 34, 32, 32, 28, 30, 28, 30, 32]"
      ]
     },
     "execution_count": 62,
     "metadata": {},
     "output_type": "execute_result"
    }
   ],
   "source": [
    "numbers_update1"
   ]
  },
  {
   "cell_type": "code",
   "execution_count": 63,
   "metadata": {},
   "outputs": [
    {
     "data": {
      "text/plain": [
       "[27, 25, 33, 35, 35, 31, 29, 31, 29, 33, 25, 31, 33, 33, 35, 31, 31, 29, 25]"
      ]
     },
     "execution_count": 63,
     "metadata": {},
     "output_type": "execute_result"
    }
   ],
   "source": [
    "numbers_update2"
   ]
  },
  {
   "cell_type": "code",
   "execution_count": 64,
   "metadata": {},
   "outputs": [
    {
     "data": {
      "text/plain": [
       "[54,\n",
       " 50,\n",
       " 66,\n",
       " 56,\n",
       " 70,\n",
       " 56,\n",
       " 70,\n",
       " 62,\n",
       " 58,\n",
       " 62,\n",
       " 68,\n",
       " 68,\n",
       " 58,\n",
       " 66,\n",
       " 50,\n",
       " 64,\n",
       " 62,\n",
       " 66,\n",
       " 64,\n",
       " 56,\n",
       " 66,\n",
       " 70,\n",
       " 60,\n",
       " 62,\n",
       " 62,\n",
       " 58,\n",
       " 56,\n",
       " 60,\n",
       " 64,\n",
       " 50]"
      ]
     },
     "execution_count": 64,
     "metadata": {},
     "output_type": "execute_result"
    }
   ],
   "source": [
    "numbers_update3"
   ]
  },
  {
   "cell_type": "code",
   "execution_count": 65,
   "metadata": {},
   "outputs": [
    {
     "data": {
      "text/plain": [
       "[5.196152422706632,\n",
       " 5.0,\n",
       " 5.744562646538029,\n",
       " 5.291502622129181,\n",
       " 5.916079783099616,\n",
       " 5.291502622129181,\n",
       " 5.916079783099616,\n",
       " 5.5677643628300215,\n",
       " 5.385164807134504,\n",
       " 5.5677643628300215,\n",
       " 5.830951894845301,\n",
       " 5.830951894845301,\n",
       " 5.385164807134504,\n",
       " 5.744562646538029,\n",
       " 5.0,\n",
       " 5.656854249492381,\n",
       " 5.5677643628300215,\n",
       " 5.744562646538029,\n",
       " 5.656854249492381,\n",
       " 5.291502622129181,\n",
       " 5.744562646538029,\n",
       " 5.916079783099616,\n",
       " 5.477225575051661,\n",
       " 5.5677643628300215,\n",
       " 5.5677643628300215,\n",
       " 5.385164807134504,\n",
       " 5.291502622129181,\n",
       " 5.477225575051661,\n",
       " 5.656854249492381,\n",
       " 5.0]"
      ]
     },
     "execution_count": 65,
     "metadata": {},
     "output_type": "execute_result"
    }
   ],
   "source": [
    "numbers_update4"
   ]
  },
  {
   "cell_type": "code",
   "execution_count": 49,
   "metadata": {},
   "outputs": [
    {
     "data": {
      "text/plain": [
       "[25, 27, 26, 27, 29, 27, 26, 27, 26, 26, 29, 28]"
      ]
     },
     "execution_count": 49,
     "metadata": {},
     "output_type": "execute_result"
    }
   ],
   "source": [
    "numbers_update"
   ]
  },
  {
   "cell_type": "code",
   "execution_count": 50,
   "metadata": {},
   "outputs": [],
   "source": [
    "numbers = []\n",
    "counter =1\n",
    "import random\n",
    "while counter <= 200:\n",
    "    num = random.randint(50,85)\n",
    "    numbers.append(num)\n",
    "    counter +=1"
   ]
  },
  {
   "cell_type": "code",
   "execution_count": 51,
   "metadata": {},
   "outputs": [
    {
     "data": {
      "text/plain": [
       "[51,\n",
       " 66,\n",
       " 84,\n",
       " 61,\n",
       " 59,\n",
       " 65,\n",
       " 83,\n",
       " 57,\n",
       " 65,\n",
       " 68,\n",
       " 74,\n",
       " 64,\n",
       " 79,\n",
       " 60,\n",
       " 65,\n",
       " 57,\n",
       " 78,\n",
       " 82,\n",
       " 62,\n",
       " 80,\n",
       " 78,\n",
       " 65,\n",
       " 65,\n",
       " 72,\n",
       " 60,\n",
       " 79,\n",
       " 73,\n",
       " 74,\n",
       " 51,\n",
       " 61,\n",
       " 54,\n",
       " 66,\n",
       " 59,\n",
       " 58,\n",
       " 60,\n",
       " 80,\n",
       " 77,\n",
       " 73,\n",
       " 63,\n",
       " 50,\n",
       " 70,\n",
       " 72,\n",
       " 61,\n",
       " 68,\n",
       " 62,\n",
       " 52,\n",
       " 73,\n",
       " 81,\n",
       " 57,\n",
       " 76,\n",
       " 69,\n",
       " 69,\n",
       " 76,\n",
       " 54,\n",
       " 72,\n",
       " 66,\n",
       " 85,\n",
       " 53,\n",
       " 56,\n",
       " 51,\n",
       " 85,\n",
       " 80,\n",
       " 58,\n",
       " 60,\n",
       " 68,\n",
       " 72,\n",
       " 73,\n",
       " 78,\n",
       " 84,\n",
       " 74,\n",
       " 54,\n",
       " 70,\n",
       " 77,\n",
       " 83,\n",
       " 69,\n",
       " 83,\n",
       " 63,\n",
       " 76,\n",
       " 58,\n",
       " 70,\n",
       " 82,\n",
       " 53,\n",
       " 71,\n",
       " 72,\n",
       " 56,\n",
       " 85,\n",
       " 50,\n",
       " 54,\n",
       " 79,\n",
       " 80,\n",
       " 76,\n",
       " 64,\n",
       " 72,\n",
       " 53,\n",
       " 59,\n",
       " 73,\n",
       " 61,\n",
       " 74,\n",
       " 66,\n",
       " 71,\n",
       " 51,\n",
       " 67,\n",
       " 80,\n",
       " 67,\n",
       " 51,\n",
       " 53,\n",
       " 61,\n",
       " 59,\n",
       " 77,\n",
       " 57,\n",
       " 71,\n",
       " 63,\n",
       " 70,\n",
       " 59,\n",
       " 53,\n",
       " 82,\n",
       " 63,\n",
       " 78,\n",
       " 71,\n",
       " 73,\n",
       " 71,\n",
       " 76,\n",
       " 77,\n",
       " 53,\n",
       " 80,\n",
       " 85,\n",
       " 63,\n",
       " 71,\n",
       " 66,\n",
       " 62,\n",
       " 52,\n",
       " 55,\n",
       " 71,\n",
       " 67,\n",
       " 69,\n",
       " 71,\n",
       " 72,\n",
       " 50,\n",
       " 60,\n",
       " 76,\n",
       " 73,\n",
       " 85,\n",
       " 74,\n",
       " 79,\n",
       " 51,\n",
       " 76,\n",
       " 62,\n",
       " 70,\n",
       " 70,\n",
       " 56,\n",
       " 76,\n",
       " 75,\n",
       " 83,\n",
       " 56,\n",
       " 74,\n",
       " 67,\n",
       " 56,\n",
       " 63,\n",
       " 69,\n",
       " 57,\n",
       " 74,\n",
       " 55,\n",
       " 81,\n",
       " 77,\n",
       " 66,\n",
       " 83,\n",
       " 56,\n",
       " 64,\n",
       " 67,\n",
       " 83,\n",
       " 68,\n",
       " 54,\n",
       " 50,\n",
       " 71,\n",
       " 54,\n",
       " 74,\n",
       " 82,\n",
       " 77,\n",
       " 61,\n",
       " 53,\n",
       " 63,\n",
       " 69,\n",
       " 65,\n",
       " 54,\n",
       " 54,\n",
       " 70,\n",
       " 74,\n",
       " 69,\n",
       " 74,\n",
       " 61,\n",
       " 64,\n",
       " 84,\n",
       " 54,\n",
       " 72,\n",
       " 81,\n",
       " 81,\n",
       " 81,\n",
       " 57,\n",
       " 71,\n",
       " 67]"
      ]
     },
     "execution_count": 51,
     "metadata": {},
     "output_type": "execute_result"
    }
   ],
   "source": [
    "numbers"
   ]
  }
 ],
 "metadata": {
  "kernelspec": {
   "display_name": "Python 3",
   "language": "python",
   "name": "python3"
  },
  "language_info": {
   "codemirror_mode": {
    "name": "ipython",
    "version": 3
   },
   "file_extension": ".py",
   "mimetype": "text/x-python",
   "name": "python",
   "nbconvert_exporter": "python",
   "pygments_lexer": "ipython3",
   "version": "3.8.5"
  }
 },
 "nbformat": 4,
 "nbformat_minor": 4
}
